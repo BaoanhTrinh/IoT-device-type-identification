{
 "cells": [
  {
   "cell_type": "code",
   "execution_count": 108,
   "id": "running-anderson",
   "metadata": {},
   "outputs": [],
   "source": [
    "import warnings\n",
    "# warnings.filterwarnings('always')  # \"error\", \"ignore\", \"always\", \"default\", \"module\" or \"once\"\n",
    "warnings.filterwarnings('ignore')"
   ]
  },
  {
   "cell_type": "code",
   "execution_count": 109,
   "id": "neural-prototype",
   "metadata": {},
   "outputs": [],
   "source": [
    "import os\n",
    "import pickle as pk\n",
    "from keras.preprocessing.text import Tokenizer\n",
    "from keras.preprocessing.sequence import pad_sequences\n",
    "import numpy as np\n",
    "from keras.optimizers import RMSprop\n",
    "from keras.utils import np_utils"
   ]
  },
  {
   "cell_type": "code",
   "execution_count": 110,
   "id": "sustainable-brooklyn",
   "metadata": {},
   "outputs": [],
   "source": [
    "import os\n",
    "import numpy as np\n",
    "import pandas as pd\n",
    "import tensorflow as tf\n",
    "from sklearn.tree import DecisionTreeClassifier\n",
    "from sklearn import metrics\n",
    "from sklearn.metrics import classification_report\n",
    "import utils\n",
    "from sklearn import preprocessing\n"
   ]
  },
  {
   "cell_type": "code",
   "execution_count": 111,
   "id": "incredible-globe",
   "metadata": {},
   "outputs": [],
   "source": [
    "import keras\n",
    "from keras.models import Sequential\n",
    "from keras.layers import Embedding, Flatten, Dense, Conv1D, GlobalMaxPooling1D,Reshape,GlobalAveragePooling1D\n",
    "from keras import Model, layers\n",
    "from keras import Input\n",
    "from keras.layers import Convolution1D, ZeroPadding1D, MaxPooling1D, BatchNormalization, Activation, Dropout"
   ]
  },
  {
   "cell_type": "code",
   "execution_count": 112,
   "id": "broadband-magnet",
   "metadata": {},
   "outputs": [],
   "source": [
    "def is_eq(a):\n",
    "    return lambda b: 1 if a == b else 0"
   ]
  },
  {
   "cell_type": "code",
   "execution_count": 113,
   "id": "communist-adrian",
   "metadata": {},
   "outputs": [],
   "source": [
    "train = pd.read_csv(os.path.abspath('C:/Users/Admin/Desktop/work/IoT-device-type-identification-master/data/100_each_validation.csv'), low_memory=False)\n",
    "validation = pd.read_csv(os.path.abspath('C:/Users/Admin/Desktop/work/IoT-device-type-identification-master/data/100_each_validation.csv'), low_memory=False)\n",
    "test = pd.read_csv(os.path.abspath('C:/Users/Admin/Desktop/work/IoT-device-type-identification-master/data/100_each_test.csv'), low_memory=False)"
   ]
  },
  {
   "cell_type": "code",
   "execution_count": 114,
   "id": "baking-bunch",
   "metadata": {},
   "outputs": [],
   "source": [
    " y_col = 'device_category'\n",
    "# devs = train['device_category'].unique()\n",
    "# devs[10]='unknown'\n",
    "devs = ['security_camera', 'TV', 'smoke_detector', 'thermostat', 'water_sensor',\n",
    " 'watch' ,'baby_monitor' ,'motion_sensor', 'lights' ,'socket','unknown']"
   ]
  },
  {
   "cell_type": "code",
   "execution_count": 115,
   "id": "formal-bahamas",
   "metadata": {},
   "outputs": [],
   "source": [
    "x_train, y_train = utils.split_data(train,y_col)\n",
    "x_test, y_test = utils.split_data(test,y_col)\n",
    "\n",
    "y_train = np.asarray(y_train)\n",
    "x_train = np.asarray(x_train)\n",
    "y_test = np.asarray(y_test)\n",
    "x_test = np.asarray(x_test)\n",
    "\n",
    "lab_enc = preprocessing.LabelEncoder()\n",
    "y_train = lab_enc.fit_transform(y_train)\n",
    "y_test = lab_enc.fit_transform(y_test)\n",
    "x_train = x_train.astype(\"float32\")\n",
    "y_train = y_train.astype(\"float32\")\n",
    "x_test = x_test.astype(\"float32\")\n",
    "y_test = y_test.astype(\"float32\")"
   ]
  },
  {
   "cell_type": "code",
   "execution_count": 116,
   "id": "broadband-elizabeth",
   "metadata": {},
   "outputs": [
    {
     "name": "stdout",
     "output_type": "stream",
     "text": [
      "**********FEATURE SELECTION**********\n",
      "[  1   2   4   5   6   9  10  11  12  13  14  15  16  17  18  19  20  21\n",
      "  22  23  24  26  27  28  29  31  32  34  35  36  37  38  39  40  41  42\n",
      "  43  44  45  46  47  48  49  50  51  52  53  54  55  56  57  59  60  61\n",
      "  62  64  65  67  68  69  70  71  72  73  74  75  76  77  78  79  80  81\n",
      "  82  83  84  85  86  87  88  89  90  91  92  93  94  95  96  97  98  99\n",
      " 100 102 103 104 105 106 107 108 109 110 111 112 113 114 115 116 117 118\n",
      " 119 120 121 122 123 124 125 126 127 128 129 130 131 133 134 135 136 137\n",
      " 138 139 140 141 143 144 145 146 147 149 150 151 152 153 154 155 156 157\n",
      " 158 159 160 161 162 163 164 165 166 167 168 169 170 171 172 183 184 185\n",
      " 186 187 188 189 190 191 192 193 194 195 196 197 198 199 200 201 202 203\n",
      " 204 205 206 209 210 211 213 214 215 216 218 219 221 222 223 224 225 226\n",
      " 227 229 230 231 232 233 234 235 236 237 239 240 241 242 247 248 249 250\n",
      " 251 252 253 254 255 258 260 261 264 267 268 271 274 275 276 277 278 284\n",
      " 285 286 290 292 293 297]\n",
      "**********FEATURE SELECTION**********\n",
      "[  1   2   3   4   5   6   7   9  10  11  12  13  14  15  16  17  18  19\n",
      "  20  21  22  23  24  26  27  28  29  31  32  34  35  36  37  38  39  40\n",
      "  41  42  43  44  45  46  47  48  49  50  51  52  53  54  55  56  57  59\n",
      "  60  61  62  64  65  67  68  69  70  71  72  73  74  75  76  77  78  79\n",
      "  80  81  82  83  84  85  86  87  88  90  92  93  94  96  97  98 100 103\n",
      " 104 106 107 108 110 112 113 114 116 117 118 119 120 121 123 124 125 126\n",
      " 127 128 129 130 131 133 134 135 136 137 138 139 140 141 143 144 145 146\n",
      " 147 148 149 150 151 152 154 155 156 157 158 159 160 161 162 163 164 165\n",
      " 166 167 168 169 170 171 172 177 178 180 181 183 184 185 186 187 188 189\n",
      " 190 191 192 193 194 195 196 197 198 199 200 201 202 203 204 205 206 207\n",
      " 208 209 210 211 213 214 215 216 218 219 221 222 223 224 225 226 227 228\n",
      " 229 230 231 232 233 234 235 236 237 238 239 240 241 242 247 248 249 250\n",
      " 251 252 253 254 255 258 260 261 264 267 268 271 274 275 276 277 278 284\n",
      " 285 286 290 292 293 297]\n",
      "(1000, 240)\n"
     ]
    }
   ],
   "source": [
    "\n",
    "x_train = utils.perform_feature_selection(x_train, y_train, 240)\n",
    "x_test = utils.perform_feature_selection(x_test, y_test, 240)\n",
    "print(x_train.shape)"
   ]
  },
  {
   "cell_type": "code",
   "execution_count": 117,
   "id": "legitimate-moses",
   "metadata": {},
   "outputs": [
    {
     "name": "stdout",
     "output_type": "stream",
     "text": [
      "New y_train shape:  (1000, 10)\n"
     ]
    }
   ],
   "source": [
    "num_classes =10\n",
    "y_train = np_utils.to_categorical(y_train, num_classes)\n",
    "y_test = np_utils.to_categorical(y_test, num_classes)\n",
    "print('New y_train shape: ', y_train.shape)"
   ]
  },
  {
   "cell_type": "code",
   "execution_count": 118,
   "id": "statewide-exchange",
   "metadata": {},
   "outputs": [
    {
     "name": "stdout",
     "output_type": "stream",
     "text": [
      "Model: \"sequential_4\"\n",
      "_________________________________________________________________\n",
      "Layer (type)                 Output Shape              Param #   \n",
      "=================================================================\n",
      "reshape_3 (Reshape)          (None, 80, 3)             0         \n",
      "_________________________________________________________________\n",
      "conv1d_12 (Conv1D)           (None, 71, 100)           3100      \n",
      "_________________________________________________________________\n",
      "conv1d_13 (Conv1D)           (None, 62, 100)           100100    \n",
      "_________________________________________________________________\n",
      "max_pooling1d_3 (MaxPooling1 (None, 20, 100)           0         \n",
      "_________________________________________________________________\n",
      "conv1d_14 (Conv1D)           (None, 11, 160)           160160    \n",
      "_________________________________________________________________\n",
      "conv1d_15 (Conv1D)           (None, 2, 160)            256160    \n",
      "_________________________________________________________________\n",
      "global_average_pooling1d_2 ( (None, 160)               0         \n",
      "_________________________________________________________________\n",
      "dropout_2 (Dropout)          (None, 160)               0         \n",
      "_________________________________________________________________\n",
      "dense_2 (Dense)              (None, 10)                1610      \n",
      "=================================================================\n",
      "Total params: 521,130\n",
      "Trainable params: 521,130\n",
      "Non-trainable params: 0\n",
      "_________________________________________________________________\n",
      "None\n"
     ]
    }
   ],
   "source": [
    "TIME_PERIODS=80 #80\n",
    "num_sensors=3 # 3\n",
    "input_shape=240 # 240\n",
    "\n",
    "model_m = Sequential()\n",
    "model_m.add(Reshape((TIME_PERIODS, num_sensors), input_shape=(input_shape,)))\n",
    "model_m.add(Conv1D(100, 10, activation='relu', input_shape=(TIME_PERIODS, num_sensors)))\n",
    "model_m.add(Conv1D(100, 10, activation='relu'))\n",
    "model_m.add(MaxPooling1D(3))\n",
    "model_m.add(Conv1D(160, 10, activation='relu'))\n",
    "model_m.add(Conv1D(160, 10, activation='relu'))\n",
    "model_m.add(GlobalAveragePooling1D())\n",
    "model_m.add(Dropout(0.5))\n",
    "model_m.add(Dense(num_classes, activation='softmax'))\n",
    "print(model_m.summary())"
   ]
  },
  {
   "cell_type": "code",
   "execution_count": 119,
   "id": "square-button",
   "metadata": {},
   "outputs": [],
   "source": [
    "callbacks_list = [\n",
    "    keras.callbacks.ModelCheckpoint(\n",
    "        filepath='best_model.{epoch:02d}-{val_loss:.2f}.h5',\n",
    "        monitor='val_loss', save_best_only=True),\n",
    "    keras.callbacks.EarlyStopping(monitor='acc', patience=1)\n",
    "]"
   ]
  },
  {
   "cell_type": "code",
   "execution_count": 120,
   "id": "intense-helena",
   "metadata": {},
   "outputs": [],
   "source": [
    "model_m.compile(loss='categorical_crossentropy',\n",
    "                optimizer='adam', metrics=['accuracy'])"
   ]
  },
  {
   "cell_type": "code",
   "execution_count": 121,
   "id": "responsible-tunnel",
   "metadata": {},
   "outputs": [],
   "source": [
    "BATCH_SIZE = 400\n",
    "EPOCHS = 50"
   ]
  },
  {
   "cell_type": "code",
   "execution_count": 122,
   "id": "latter-scene",
   "metadata": {},
   "outputs": [
    {
     "name": "stdout",
     "output_type": "stream",
     "text": [
      "Epoch 1/50\n",
      "2/2 [==============================] - ETA: 0s - loss: 2.2873 - accuracy: 0.1737WARNING:tensorflow:Early stopping conditioned on metric `acc` which is not available. Available metrics are: loss,accuracy,val_loss,val_accuracy\n",
      "2/2 [==============================] - 1s 290ms/step - loss: 2.2873 - accuracy: 0.1737 - val_loss: 2.2075 - val_accuracy: 0.2500\n",
      "Epoch 2/50\n",
      "2/2 [==============================] - ETA: 0s - loss: 2.1607 - accuracy: 0.3237WARNING:tensorflow:Early stopping conditioned on metric `acc` which is not available. Available metrics are: loss,accuracy,val_loss,val_accuracy\n",
      "2/2 [==============================] - 0s 174ms/step - loss: 2.1607 - accuracy: 0.3237 - val_loss: 1.9840 - val_accuracy: 0.3200\n",
      "Epoch 3/50\n",
      "2/2 [==============================] - ETA: 0s - loss: 1.9228 - accuracy: 0.3950WARNING:tensorflow:Early stopping conditioned on metric `acc` which is not available. Available metrics are: loss,accuracy,val_loss,val_accuracy\n",
      "2/2 [==============================] - 0s 174ms/step - loss: 1.9228 - accuracy: 0.3950 - val_loss: 1.6548 - val_accuracy: 0.5200\n",
      "Epoch 4/50\n",
      "2/2 [==============================] - ETA: 0s - loss: 1.6505 - accuracy: 0.4475WARNING:tensorflow:Early stopping conditioned on metric `acc` which is not available. Available metrics are: loss,accuracy,val_loss,val_accuracy\n",
      "2/2 [==============================] - 0s 170ms/step - loss: 1.6505 - accuracy: 0.4475 - val_loss: 1.3438 - val_accuracy: 0.4800\n",
      "Epoch 5/50\n",
      "2/2 [==============================] - ETA: 0s - loss: 1.4712 - accuracy: 0.4638WARNING:tensorflow:Early stopping conditioned on metric `acc` which is not available. Available metrics are: loss,accuracy,val_loss,val_accuracy\n",
      "2/2 [==============================] - 0s 183ms/step - loss: 1.4712 - accuracy: 0.4638 - val_loss: 1.1476 - val_accuracy: 0.5250\n",
      "Epoch 6/50\n",
      "2/2 [==============================] - ETA: 0s - loss: 1.3825 - accuracy: 0.4750WARNING:tensorflow:Early stopping conditioned on metric `acc` which is not available. Available metrics are: loss,accuracy,val_loss,val_accuracy\n",
      "2/2 [==============================] - 0s 170ms/step - loss: 1.3825 - accuracy: 0.4750 - val_loss: 1.0400 - val_accuracy: 0.5850\n",
      "Epoch 7/50\n",
      "2/2 [==============================] - ETA: 0s - loss: 1.1708 - accuracy: 0.5600WARNING:tensorflow:Early stopping conditioned on metric `acc` which is not available. Available metrics are: loss,accuracy,val_loss,val_accuracy\n",
      "2/2 [==============================] - 0s 187ms/step - loss: 1.1708 - accuracy: 0.5600 - val_loss: 0.9813 - val_accuracy: 0.6200\n",
      "Epoch 8/50\n",
      "2/2 [==============================] - ETA: 0s - loss: 1.0936 - accuracy: 0.5925WARNING:tensorflow:Early stopping conditioned on metric `acc` which is not available. Available metrics are: loss,accuracy,val_loss,val_accuracy\n",
      "2/2 [==============================] - 0s 187ms/step - loss: 1.0936 - accuracy: 0.5925 - val_loss: 0.8811 - val_accuracy: 0.6950\n",
      "Epoch 9/50\n",
      "2/2 [==============================] - ETA: 0s - loss: 0.9838 - accuracy: 0.6488WARNING:tensorflow:Early stopping conditioned on metric `acc` which is not available. Available metrics are: loss,accuracy,val_loss,val_accuracy\n",
      "2/2 [==============================] - 0s 170ms/step - loss: 0.9838 - accuracy: 0.6488 - val_loss: 0.7918 - val_accuracy: 0.6950\n",
      "Epoch 10/50\n",
      "2/2 [==============================] - ETA: 0s - loss: 0.9220 - accuracy: 0.6513WARNING:tensorflow:Early stopping conditioned on metric `acc` which is not available. Available metrics are: loss,accuracy,val_loss,val_accuracy\n",
      "2/2 [==============================] - 0s 176ms/step - loss: 0.9220 - accuracy: 0.6513 - val_loss: 0.7354 - val_accuracy: 0.6750\n",
      "Epoch 11/50\n",
      "2/2 [==============================] - ETA: 0s - loss: 0.8238 - accuracy: 0.6762WARNING:tensorflow:Early stopping conditioned on metric `acc` which is not available. Available metrics are: loss,accuracy,val_loss,val_accuracy\n",
      "2/2 [==============================] - 0s 185ms/step - loss: 0.8238 - accuracy: 0.6762 - val_loss: 0.6644 - val_accuracy: 0.6800\n",
      "Epoch 12/50\n",
      "2/2 [==============================] - ETA: 0s - loss: 0.7381 - accuracy: 0.7262WARNING:tensorflow:Early stopping conditioned on metric `acc` which is not available. Available metrics are: loss,accuracy,val_loss,val_accuracy\n",
      "2/2 [==============================] - 0s 183ms/step - loss: 0.7381 - accuracy: 0.7262 - val_loss: 0.6131 - val_accuracy: 0.7950\n",
      "Epoch 13/50\n",
      "2/2 [==============================] - ETA: 0s - loss: 0.7003 - accuracy: 0.7387WARNING:tensorflow:Early stopping conditioned on metric `acc` which is not available. Available metrics are: loss,accuracy,val_loss,val_accuracy\n",
      "2/2 [==============================] - 0s 175ms/step - loss: 0.7003 - accuracy: 0.7387 - val_loss: 0.5879 - val_accuracy: 0.7850\n",
      "Epoch 14/50\n",
      "2/2 [==============================] - ETA: 0s - loss: 0.6684 - accuracy: 0.7688WARNING:tensorflow:Early stopping conditioned on metric `acc` which is not available. Available metrics are: loss,accuracy,val_loss,val_accuracy\n",
      "2/2 [==============================] - 0s 170ms/step - loss: 0.6684 - accuracy: 0.7688 - val_loss: 0.5422 - val_accuracy: 0.7800\n",
      "Epoch 15/50\n",
      "2/2 [==============================] - ETA: 0s - loss: 0.6306 - accuracy: 0.7625WARNING:tensorflow:Early stopping conditioned on metric `acc` which is not available. Available metrics are: loss,accuracy,val_loss,val_accuracy\n",
      "2/2 [==============================] - 0s 178ms/step - loss: 0.6306 - accuracy: 0.7625 - val_loss: 0.4836 - val_accuracy: 0.7850\n",
      "Epoch 16/50\n",
      "2/2 [==============================] - ETA: 0s - loss: 0.5776 - accuracy: 0.7875WARNING:tensorflow:Early stopping conditioned on metric `acc` which is not available. Available metrics are: loss,accuracy,val_loss,val_accuracy\n",
      "2/2 [==============================] - 0s 169ms/step - loss: 0.5776 - accuracy: 0.7875 - val_loss: 0.4803 - val_accuracy: 0.7650\n",
      "Epoch 17/50\n",
      "2/2 [==============================] - ETA: 0s - loss: 0.5419 - accuracy: 0.7788WARNING:tensorflow:Early stopping conditioned on metric `acc` which is not available. Available metrics are: loss,accuracy,val_loss,val_accuracy\n",
      "2/2 [==============================] - 0s 169ms/step - loss: 0.5419 - accuracy: 0.7788 - val_loss: 0.4276 - val_accuracy: 0.8000\n",
      "Epoch 18/50\n",
      "2/2 [==============================] - ETA: 0s - loss: 0.5002 - accuracy: 0.8112WARNING:tensorflow:Early stopping conditioned on metric `acc` which is not available. Available metrics are: loss,accuracy,val_loss,val_accuracy\n",
      "2/2 [==============================] - 0s 195ms/step - loss: 0.5002 - accuracy: 0.8112 - val_loss: 0.3961 - val_accuracy: 0.8250\n",
      "Epoch 19/50\n",
      "2/2 [==============================] - ETA: 0s - loss: 0.4746 - accuracy: 0.8163WARNING:tensorflow:Early stopping conditioned on metric `acc` which is not available. Available metrics are: loss,accuracy,val_loss,val_accuracy\n",
      "2/2 [==============================] - 0s 178ms/step - loss: 0.4746 - accuracy: 0.8163 - val_loss: 0.3716 - val_accuracy: 0.8150\n",
      "Epoch 20/50\n",
      "2/2 [==============================] - ETA: 0s - loss: 0.4157 - accuracy: 0.8350WARNING:tensorflow:Early stopping conditioned on metric `acc` which is not available. Available metrics are: loss,accuracy,val_loss,val_accuracy\n",
      "2/2 [==============================] - 0s 183ms/step - loss: 0.4157 - accuracy: 0.8350 - val_loss: 0.3503 - val_accuracy: 0.8200\n",
      "Epoch 21/50\n",
      "2/2 [==============================] - ETA: 0s - loss: 0.4108 - accuracy: 0.8275WARNING:tensorflow:Early stopping conditioned on metric `acc` which is not available. Available metrics are: loss,accuracy,val_loss,val_accuracy\n",
      "2/2 [==============================] - 0s 185ms/step - loss: 0.4108 - accuracy: 0.8275 - val_loss: 0.3168 - val_accuracy: 0.8650\n",
      "Epoch 22/50\n",
      "2/2 [==============================] - ETA: 0s - loss: 0.4010 - accuracy: 0.8275WARNING:tensorflow:Early stopping conditioned on metric `acc` which is not available. Available metrics are: loss,accuracy,val_loss,val_accuracy\n",
      "2/2 [==============================] - 0s 193ms/step - loss: 0.4010 - accuracy: 0.8275 - val_loss: 0.3035 - val_accuracy: 0.8500\n",
      "Epoch 23/50\n",
      "2/2 [==============================] - ETA: 0s - loss: 0.3705 - accuracy: 0.8475WARNING:tensorflow:Early stopping conditioned on metric `acc` which is not available. Available metrics are: loss,accuracy,val_loss,val_accuracy\n"
     ]
    },
    {
     "name": "stdout",
     "output_type": "stream",
     "text": [
      "2/2 [==============================] - 0s 184ms/step - loss: 0.3705 - accuracy: 0.8475 - val_loss: 0.3010 - val_accuracy: 0.8250\n",
      "Epoch 24/50\n",
      "2/2 [==============================] - ETA: 0s - loss: 0.3489 - accuracy: 0.8413WARNING:tensorflow:Early stopping conditioned on metric `acc` which is not available. Available metrics are: loss,accuracy,val_loss,val_accuracy\n",
      "2/2 [==============================] - 0s 197ms/step - loss: 0.3489 - accuracy: 0.8413 - val_loss: 0.2845 - val_accuracy: 0.8400\n",
      "Epoch 25/50\n",
      "2/2 [==============================] - ETA: 0s - loss: 0.3389 - accuracy: 0.8438WARNING:tensorflow:Early stopping conditioned on metric `acc` which is not available. Available metrics are: loss,accuracy,val_loss,val_accuracy\n",
      "2/2 [==============================] - 0s 171ms/step - loss: 0.3389 - accuracy: 0.8438 - val_loss: 0.2803 - val_accuracy: 0.8450\n",
      "Epoch 26/50\n",
      "2/2 [==============================] - ETA: 0s - loss: 0.3175 - accuracy: 0.8562WARNING:tensorflow:Early stopping conditioned on metric `acc` which is not available. Available metrics are: loss,accuracy,val_loss,val_accuracy\n",
      "2/2 [==============================] - 0s 190ms/step - loss: 0.3175 - accuracy: 0.8562 - val_loss: 0.2674 - val_accuracy: 0.8850\n",
      "Epoch 27/50\n",
      "2/2 [==============================] - ETA: 0s - loss: 0.3037 - accuracy: 0.8662WARNING:tensorflow:Early stopping conditioned on metric `acc` which is not available. Available metrics are: loss,accuracy,val_loss,val_accuracy\n",
      "2/2 [==============================] - 0s 160ms/step - loss: 0.3037 - accuracy: 0.8662 - val_loss: 0.2729 - val_accuracy: 0.8500\n",
      "Epoch 28/50\n",
      "2/2 [==============================] - ETA: 0s - loss: 0.2887 - accuracy: 0.8637WARNING:tensorflow:Early stopping conditioned on metric `acc` which is not available. Available metrics are: loss,accuracy,val_loss,val_accuracy\n",
      "2/2 [==============================] - 0s 198ms/step - loss: 0.2887 - accuracy: 0.8637 - val_loss: 0.2605 - val_accuracy: 0.8550\n",
      "Epoch 29/50\n",
      "2/2 [==============================] - ETA: 0s - loss: 0.2891 - accuracy: 0.8687WARNING:tensorflow:Early stopping conditioned on metric `acc` which is not available. Available metrics are: loss,accuracy,val_loss,val_accuracy\n",
      "2/2 [==============================] - 0s 178ms/step - loss: 0.2891 - accuracy: 0.8687 - val_loss: 0.2486 - val_accuracy: 0.8600\n",
      "Epoch 30/50\n",
      "2/2 [==============================] - ETA: 0s - loss: 0.2709 - accuracy: 0.8650WARNING:tensorflow:Early stopping conditioned on metric `acc` which is not available. Available metrics are: loss,accuracy,val_loss,val_accuracy\n",
      "2/2 [==============================] - 0s 180ms/step - loss: 0.2709 - accuracy: 0.8650 - val_loss: 0.2429 - val_accuracy: 0.8600\n",
      "Epoch 31/50\n",
      "2/2 [==============================] - ETA: 0s - loss: 0.2578 - accuracy: 0.8775WARNING:tensorflow:Early stopping conditioned on metric `acc` which is not available. Available metrics are: loss,accuracy,val_loss,val_accuracy\n",
      "2/2 [==============================] - 0s 221ms/step - loss: 0.2578 - accuracy: 0.8775 - val_loss: 0.2399 - val_accuracy: 0.8550\n",
      "Epoch 32/50\n",
      "2/2 [==============================] - ETA: 0s - loss: 0.2528 - accuracy: 0.8900WARNING:tensorflow:Early stopping conditioned on metric `acc` which is not available. Available metrics are: loss,accuracy,val_loss,val_accuracy\n",
      "2/2 [==============================] - 0s 187ms/step - loss: 0.2528 - accuracy: 0.8900 - val_loss: 0.2322 - val_accuracy: 0.8700\n",
      "Epoch 33/50\n",
      "2/2 [==============================] - ETA: 0s - loss: 0.2342 - accuracy: 0.8800WARNING:tensorflow:Early stopping conditioned on metric `acc` which is not available. Available metrics are: loss,accuracy,val_loss,val_accuracy\n",
      "2/2 [==============================] - 0s 171ms/step - loss: 0.2342 - accuracy: 0.8800 - val_loss: 0.2370 - val_accuracy: 0.8650\n",
      "Epoch 34/50\n",
      "2/2 [==============================] - ETA: 0s - loss: 0.2273 - accuracy: 0.8850WARNING:tensorflow:Early stopping conditioned on metric `acc` which is not available. Available metrics are: loss,accuracy,val_loss,val_accuracy\n",
      "2/2 [==============================] - 0s 176ms/step - loss: 0.2273 - accuracy: 0.8850 - val_loss: 0.2365 - val_accuracy: 0.8550\n",
      "Epoch 35/50\n",
      "2/2 [==============================] - ETA: 0s - loss: 0.2419 - accuracy: 0.8875WARNING:tensorflow:Early stopping conditioned on metric `acc` which is not available. Available metrics are: loss,accuracy,val_loss,val_accuracy\n",
      "2/2 [==============================] - 0s 165ms/step - loss: 0.2419 - accuracy: 0.8875 - val_loss: 0.2374 - val_accuracy: 0.8550\n",
      "Epoch 36/50\n",
      "2/2 [==============================] - ETA: 0s - loss: 0.2285 - accuracy: 0.8863WARNING:tensorflow:Early stopping conditioned on metric `acc` which is not available. Available metrics are: loss,accuracy,val_loss,val_accuracy\n",
      "2/2 [==============================] - 0s 171ms/step - loss: 0.2285 - accuracy: 0.8863 - val_loss: 0.2361 - val_accuracy: 0.8600\n",
      "Epoch 37/50\n",
      "2/2 [==============================] - ETA: 0s - loss: 0.2324 - accuracy: 0.8750WARNING:tensorflow:Early stopping conditioned on metric `acc` which is not available. Available metrics are: loss,accuracy,val_loss,val_accuracy\n",
      "2/2 [==============================] - 0s 204ms/step - loss: 0.2324 - accuracy: 0.8750 - val_loss: 0.2302 - val_accuracy: 0.8850\n",
      "Epoch 38/50\n",
      "2/2 [==============================] - ETA: 0s - loss: 0.2303 - accuracy: 0.8788WARNING:tensorflow:Early stopping conditioned on metric `acc` which is not available. Available metrics are: loss,accuracy,val_loss,val_accuracy\n",
      "2/2 [==============================] - 0s 211ms/step - loss: 0.2303 - accuracy: 0.8788 - val_loss: 0.2277 - val_accuracy: 0.8700\n",
      "Epoch 39/50\n",
      "2/2 [==============================] - ETA: 0s - loss: 0.2194 - accuracy: 0.8875WARNING:tensorflow:Early stopping conditioned on metric `acc` which is not available. Available metrics are: loss,accuracy,val_loss,val_accuracy\n",
      "2/2 [==============================] - 0s 177ms/step - loss: 0.2194 - accuracy: 0.8875 - val_loss: 0.2404 - val_accuracy: 0.8600\n",
      "Epoch 40/50\n",
      "2/2 [==============================] - ETA: 0s - loss: 0.2020 - accuracy: 0.8975WARNING:tensorflow:Early stopping conditioned on metric `acc` which is not available. Available metrics are: loss,accuracy,val_loss,val_accuracy\n",
      "2/2 [==============================] - 0s 182ms/step - loss: 0.2020 - accuracy: 0.8975 - val_loss: 0.2248 - val_accuracy: 0.8650\n",
      "Epoch 41/50\n",
      "2/2 [==============================] - ETA: 0s - loss: 0.2105 - accuracy: 0.8737WARNING:tensorflow:Early stopping conditioned on metric `acc` which is not available. Available metrics are: loss,accuracy,val_loss,val_accuracy\n",
      "2/2 [==============================] - 0s 194ms/step - loss: 0.2105 - accuracy: 0.8737 - val_loss: 0.2212 - val_accuracy: 0.8700\n",
      "Epoch 42/50\n",
      "2/2 [==============================] - ETA: 0s - loss: 0.2074 - accuracy: 0.8900WARNING:tensorflow:Early stopping conditioned on metric `acc` which is not available. Available metrics are: loss,accuracy,val_loss,val_accuracy\n",
      "2/2 [==============================] - 0s 212ms/step - loss: 0.2074 - accuracy: 0.8900 - val_loss: 0.2165 - val_accuracy: 0.8600\n",
      "Epoch 43/50\n",
      "2/2 [==============================] - ETA: 0s - loss: 0.2091 - accuracy: 0.9025WARNING:tensorflow:Early stopping conditioned on metric `acc` which is not available. Available metrics are: loss,accuracy,val_loss,val_accuracy\n",
      "2/2 [==============================] - 0s 196ms/step - loss: 0.2091 - accuracy: 0.9025 - val_loss: 0.2133 - val_accuracy: 0.8800\n",
      "Epoch 44/50\n",
      "2/2 [==============================] - ETA: 0s - loss: 0.2058 - accuracy: 0.8988WARNING:tensorflow:Early stopping conditioned on metric `acc` which is not available. Available metrics are: loss,accuracy,val_loss,val_accuracy\n",
      "2/2 [==============================] - 0s 193ms/step - loss: 0.2058 - accuracy: 0.8988 - val_loss: 0.2120 - val_accuracy: 0.8900\n",
      "Epoch 45/50\n",
      "2/2 [==============================] - ETA: 0s - loss: 0.1940 - accuracy: 0.8863WARNING:tensorflow:Early stopping conditioned on metric `acc` which is not available. Available metrics are: loss,accuracy,val_loss,val_accuracy\n",
      "2/2 [==============================] - 0s 180ms/step - loss: 0.1940 - accuracy: 0.8863 - val_loss: 0.2268 - val_accuracy: 0.8600\n",
      "Epoch 46/50\n"
     ]
    },
    {
     "name": "stdout",
     "output_type": "stream",
     "text": [
      "2/2 [==============================] - ETA: 0s - loss: 0.1984 - accuracy: 0.8850WARNING:tensorflow:Early stopping conditioned on metric `acc` which is not available. Available metrics are: loss,accuracy,val_loss,val_accuracy\n",
      "2/2 [==============================] - 0s 186ms/step - loss: 0.1984 - accuracy: 0.8850 - val_loss: 0.2158 - val_accuracy: 0.8700\n",
      "Epoch 47/50\n",
      "2/2 [==============================] - ETA: 0s - loss: 0.1924 - accuracy: 0.9062WARNING:tensorflow:Early stopping conditioned on metric `acc` which is not available. Available metrics are: loss,accuracy,val_loss,val_accuracy\n",
      "2/2 [==============================] - 0s 179ms/step - loss: 0.1924 - accuracy: 0.9062 - val_loss: 0.2153 - val_accuracy: 0.8600\n",
      "Epoch 48/50\n",
      "2/2 [==============================] - ETA: 0s - loss: 0.1929 - accuracy: 0.8900WARNING:tensorflow:Early stopping conditioned on metric `acc` which is not available. Available metrics are: loss,accuracy,val_loss,val_accuracy\n",
      "2/2 [==============================] - 0s 210ms/step - loss: 0.1929 - accuracy: 0.8900 - val_loss: 0.2200 - val_accuracy: 0.8450\n",
      "Epoch 49/50\n",
      "2/2 [==============================] - ETA: 0s - loss: 0.1942 - accuracy: 0.8938WARNING:tensorflow:Early stopping conditioned on metric `acc` which is not available. Available metrics are: loss,accuracy,val_loss,val_accuracy\n",
      "2/2 [==============================] - 0s 174ms/step - loss: 0.1942 - accuracy: 0.8938 - val_loss: 0.2204 - val_accuracy: 0.8950\n",
      "Epoch 50/50\n",
      "2/2 [==============================] - ETA: 0s - loss: 0.1985 - accuracy: 0.8813WARNING:tensorflow:Early stopping conditioned on metric `acc` which is not available. Available metrics are: loss,accuracy,val_loss,val_accuracy\n",
      "2/2 [==============================] - 0s 179ms/step - loss: 0.1985 - accuracy: 0.8813 - val_loss: 0.2171 - val_accuracy: 0.8900\n"
     ]
    }
   ],
   "source": [
    "history = model_m.fit(x_train,\n",
    "                      y_train,\n",
    "                      batch_size=BATCH_SIZE,\n",
    "                      epochs=EPOCHS,\n",
    "                      callbacks=callbacks_list,\n",
    "                      validation_split=0.2,\n",
    "                      verbose=1)"
   ]
  },
  {
   "cell_type": "code",
   "execution_count": 123,
   "id": "toxic-topic",
   "metadata": {},
   "outputs": [
    {
     "name": "stdout",
     "output_type": "stream",
     "text": [
      "[[3.1538634e-04 2.7034333e-04 3.3211557e-04 ... 0.0000000e+00\n",
      "  0.0000000e+00 0.0000000e+00]\n",
      " [2.2527596e-04 1.8022889e-04 2.4908668e-04 ... 0.0000000e+00\n",
      "  1.0000000e+00 0.0000000e+00]\n",
      " [3.1538634e-04 2.7034333e-04 3.3211557e-04 ... 0.0000000e+00\n",
      "  0.0000000e+00 0.0000000e+00]\n",
      " ...\n",
      " [9.9121418e-04 1.0813733e-03 8.3028892e-04 ... 0.0000000e+00\n",
      "  1.0000000e+00 0.0000000e+00]\n",
      " [0.0000000e+00 0.0000000e+00 0.0000000e+00 ... 0.0000000e+00\n",
      "  1.0000000e+00 0.0000000e+00]\n",
      " [0.0000000e+00 0.0000000e+00 0.0000000e+00 ... 0.0000000e+00\n",
      "  1.0000000e+00 0.0000000e+00]]\n",
      "[[0. 0. 0. ... 0. 0. 0.]\n",
      " [1. 0. 0. ... 0. 0. 0.]\n",
      " [0. 0. 0. ... 0. 0. 0.]\n",
      " ...\n",
      " [0. 0. 0. ... 0. 0. 0.]\n",
      " [0. 0. 0. ... 0. 0. 0.]\n",
      " [0. 0. 1. ... 0. 0. 0.]]\n",
      "32/32 [==============================] - 0s 8ms/step - loss: 5.2872 - accuracy: 0.3210\n",
      "\n",
      "Accuracy on test data: 0.32\n",
      "\n",
      "Loss on test data: 5.29\n",
      "              precision    recall  f1-score   support\n",
      "\n",
      "           0       0.15      0.83      0.25       100\n",
      "           1       0.86      0.12      0.21       100\n",
      "           2       0.32      0.12      0.18       100\n",
      "           3       0.92      0.72      0.81       100\n",
      "           4       0.42      0.43      0.43       100\n",
      "           5       1.00      0.99      0.99       100\n",
      "           6       0.00      0.00      0.00       100\n",
      "           7       0.00      0.00      0.00       100\n",
      "           8       0.00      0.00      0.00       100\n",
      "           9       0.00      0.00      0.00       100\n",
      "\n",
      "    accuracy                           0.32      1000\n",
      "   macro avg       0.37      0.32      0.29      1000\n",
      "weighted avg       0.37      0.32      0.29      1000\n",
      "\n"
     ]
    }
   ],
   "source": [
    "score = model_m.evaluate(x_test, y_test, verbose=1)\n",
    "print(\"\\nAccuracy on test data: %0.2f\" % score[1])\n",
    "print(\"\\nLoss on test data: %0.2f\" % score[0])\n",
    "#confusion_matrix\n",
    "y_pred_test = model_m.predict(x_test)\n",
    "max_y_pred_test = np.argmax(y_pred_test, axis=1)\n",
    "max_y_test = np.argmax(y_test, axis=1)\n",
    "print(classification_report(max_y_test, max_y_pred_test))"
   ]
  },
  {
   "cell_type": "code",
   "execution_count": null,
   "id": "romance-collectible",
   "metadata": {},
   "outputs": [],
   "source": []
  }
 ],
 "metadata": {
  "kernelspec": {
   "display_name": "Python 3",
   "language": "python",
   "name": "python3"
  },
  "language_info": {
   "codemirror_mode": {
    "name": "ipython",
    "version": 3
   },
   "file_extension": ".py",
   "mimetype": "text/x-python",
   "name": "python",
   "nbconvert_exporter": "python",
   "pygments_lexer": "ipython3",
   "version": "3.8.6"
  }
 },
 "nbformat": 4,
 "nbformat_minor": 5
}
